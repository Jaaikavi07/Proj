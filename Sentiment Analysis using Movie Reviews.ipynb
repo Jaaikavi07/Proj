{
  "cells": [
    {
      "cell_type": "code",
      "execution_count": null,
      "metadata": {
        "colab": {
          "base_uri": "https://localhost:8080/"
        },
        "id": "J2_HmkA-0KKe",
        "outputId": "a9c5076c-0961-402e-fe51-d84926a84df5"
      },
      "outputs": [
        {
          "name": "stdout",
          "output_type": "stream",
          "text": [
            "--2023-11-28 03:47:27--  https://www.dropbox.com/s/pdhwlpi2yeie0ol/movie-reviews-dataset.zip\n",
            "Resolving www.dropbox.com (www.dropbox.com)... 162.125.13.18, 2620:100:601f:18::a27d:912\n",
            "Connecting to www.dropbox.com (www.dropbox.com)|162.125.13.18|:443... connected.\n",
            "HTTP request sent, awaiting response... 302 Found\n",
            "Location: /s/raw/pdhwlpi2yeie0ol/movie-reviews-dataset.zip [following]\n",
            "--2023-11-28 03:47:28--  https://www.dropbox.com/s/raw/pdhwlpi2yeie0ol/movie-reviews-dataset.zip\n",
            "Reusing existing connection to www.dropbox.com:443.\n",
            "HTTP request sent, awaiting response... 302 Found\n",
            "Location: https://ucab118a9218346be6e2f96cc888.dl.dropboxusercontent.com/cd/0/inline/CIVpGYA2Yx2RcuVEI5hCJsOTEF5i-FAzWM6kEU0aVUz9uqHMOLBd7_WnPjFrdQRRbrtwxRLnXTeD23bLwqis_A0lK_VDS2xRFYan9rGGTdHwZ4XErUji9JLKJfNlERviJ4jnJNIdtdMi0rKzLYQqMdZI/file# [following]\n",
            "--2023-11-28 03:47:28--  https://ucab118a9218346be6e2f96cc888.dl.dropboxusercontent.com/cd/0/inline/CIVpGYA2Yx2RcuVEI5hCJsOTEF5i-FAzWM6kEU0aVUz9uqHMOLBd7_WnPjFrdQRRbrtwxRLnXTeD23bLwqis_A0lK_VDS2xRFYan9rGGTdHwZ4XErUji9JLKJfNlERviJ4jnJNIdtdMi0rKzLYQqMdZI/file\n",
            "Resolving ucab118a9218346be6e2f96cc888.dl.dropboxusercontent.com (ucab118a9218346be6e2f96cc888.dl.dropboxusercontent.com)... 162.125.13.15, 2620:100:601d:15::a27d:50f\n",
            "Connecting to ucab118a9218346be6e2f96cc888.dl.dropboxusercontent.com (ucab118a9218346be6e2f96cc888.dl.dropboxusercontent.com)|162.125.13.15|:443... connected.\n",
            "HTTP request sent, awaiting response... 302 Found\n",
            "Location: /cd/0/inline2/CIX6_Mv7CcEUpy4Csnh0eXPUEJK7ozwi1p4llk4qrZhKEk1JDCZoy8NXxUseaCrueuBU0WuOIRtYKNqFcB-btbOJRV_IpwoU1fZXFC8bvugwdkX8_P8EL9u2V9Pk2KyNS9quOosfpa9ohn7xbsLFri5XIaqqgLckVqqQgNJ4t_HnInPR5jfhivADZy3Ou0UbxM9iggZh-gRgTKXMweSyF39VvhT-d0C3iGaGt9zb4QX3KiJgLbmnOmKc9gBbyU2bb4HUhQTR9_DBlT6HlRLyJD9xPT-oy78X5X-2Wdi-GVA9IE0uLccDV6ybqZ-3FXCxxNMhVEEypPRP3I-l9wJv_3_yTgnC6qttzAgvIUGK9HC6_eTJrgFzb673iZz5p8SPEyQ/file [following]\n",
            "--2023-11-28 03:47:29--  https://ucab118a9218346be6e2f96cc888.dl.dropboxusercontent.com/cd/0/inline2/CIX6_Mv7CcEUpy4Csnh0eXPUEJK7ozwi1p4llk4qrZhKEk1JDCZoy8NXxUseaCrueuBU0WuOIRtYKNqFcB-btbOJRV_IpwoU1fZXFC8bvugwdkX8_P8EL9u2V9Pk2KyNS9quOosfpa9ohn7xbsLFri5XIaqqgLckVqqQgNJ4t_HnInPR5jfhivADZy3Ou0UbxM9iggZh-gRgTKXMweSyF39VvhT-d0C3iGaGt9zb4QX3KiJgLbmnOmKc9gBbyU2bb4HUhQTR9_DBlT6HlRLyJD9xPT-oy78X5X-2Wdi-GVA9IE0uLccDV6ybqZ-3FXCxxNMhVEEypPRP3I-l9wJv_3_yTgnC6qttzAgvIUGK9HC6_eTJrgFzb673iZz5p8SPEyQ/file\n",
            "Reusing existing connection to ucab118a9218346be6e2f96cc888.dl.dropboxusercontent.com:443.\n",
            "HTTP request sent, awaiting response... 200 OK\n",
            "Length: 62951389 (60M) [application/zip]\n",
            "Saving to: ‘movie-reviews-dataset.zip’\n",
            "\n",
            "movie-reviews-datas 100%[===================>]  60.03M  40.9MB/s    in 1.5s    \n",
            "\n",
            "2023-11-28 03:47:31 (40.9 MB/s) - ‘movie-reviews-dataset.zip’ saved [62951389/62951389]\n",
            "\n"
          ]
        }
      ],
      "source": [
        "!wget https://www.dropbox.com/s/pdhwlpi2yeie0ol/movie-reviews-dataset.zip"
      ]
    },
    {
      "cell_type": "code",
      "execution_count": null,
      "metadata": {
        "id": "OFxRnrRl0SWP"
      },
      "outputs": [],
      "source": [
        "!unzip -q \"/content/movie-reviews-dataset.zip\""
      ]
    },
    {
      "cell_type": "code",
      "execution_count": null,
      "metadata": {
        "id": "iW0g5tGD0SZQ"
      },
      "outputs": [],
      "source": [
        "from tensorflow.keras.preprocessing import text_dataset_from_directory\n",
        "from tensorflow.strings import regex_replace\n",
        "from tensorflow.keras.layers.experimental.preprocessing import TextVectorization\n",
        "from tensorflow.keras.models import Sequential\n",
        "from tensorflow.keras import Input\n",
        "from tensorflow.keras.layers import Dense,RNN,SimpleRNNCell,Embedding,Dropout, LSTM, GRU, Bidirectional"
      ]
    },
    {
      "cell_type": "code",
      "execution_count": null,
      "metadata": {
        "id": "UYExiJOi0ScW"
      },
      "outputs": [],
      "source": [
        "def prepareData(dir):\n",
        "  data = text_dataset_from_directory(dir)\n",
        "  return data.map(\n",
        "      lambda text, label: (regex_replace(text,'<br />',' '),label),\n",
        "  )"
      ]
    },
    {
      "cell_type": "code",
      "execution_count": null,
      "metadata": {
        "colab": {
          "base_uri": "https://localhost:8080/"
        },
        "id": "X9NWcngn0SgA",
        "outputId": "3f545163-ecb5-4576-f2ce-c8d67851bba6"
      },
      "outputs": [
        {
          "name": "stdout",
          "output_type": "stream",
          "text": [
            "Found 25000 files belonging to 2 classes.\n",
            "Found 25000 files belonging to 2 classes.\n",
            "b'I gave it a 2 instead of a 1 because I think \"The Wild Women of Wongo\" is worse. This is an exercise in patience. It\\'s like having your teeth cleaned by a bad dental hygienist. There\\'s no plot. There\\'s no logic. There is certainly no acting (although the shark has some quality dialogue). We don\\'t wonder about anything. We don\\'t know how people got where they got. It\\'s always amazing to me how things like this even get released. I agree with the previous writer that it isn\\'t even funny bad. I know. It\\'s about 90 minutes long and that will fill up about that much space on a DVD collection. It\\'s like a paperweight. Or a bad painting you bought at a starving artists\\' sale. It covers the crack in the wall.'\n",
            "0\n"
          ]
        }
      ],
      "source": [
        "train_data = prepareData('movie-reviews-dataset/train')\n",
        "test_data = prepareData('movie-reviews-dataset/test')\n",
        "\n",
        "for text_batch, label_batch in train_data.take(1):\n",
        "  print(text_batch.numpy()[0])\n",
        "  print(label_batch.numpy()[0])"
      ]
    },
    {
      "cell_type": "code",
      "execution_count": null,
      "metadata": {
        "id": "Ia7A7jKK0SjA"
      },
      "outputs": [],
      "source": [
        "model1 = Sequential()\n",
        "model2 = Sequential()\n",
        "model3 = Sequential()\n",
        "model4 = Sequential()\n",
        "model5 = Sequential()"
      ]
    },
    {
      "cell_type": "code",
      "execution_count": null,
      "metadata": {
        "id": "RzaN896O0Sl-"
      },
      "outputs": [],
      "source": [
        "#Adding input layer to accept String as input\n",
        "model1.add(Input(shape=(1,),dtype=\"string\"))\n",
        "model2.add(Input(shape=(1,),dtype=\"string\"))\n",
        "model3.add(Input(shape=(1,),dtype=\"string\"))\n",
        "model4.add(Input(shape=(1,),dtype=\"string\"))\n",
        "model5.add(Input(shape=(1,),dtype=\"string\"))"
      ]
    },
    {
      "cell_type": "code",
      "execution_count": null,
      "metadata": {
        "id": "pSaalv8e0So_"
      },
      "outputs": [],
      "source": [
        "#Converting string information to vector form\n",
        "max_tokens = 1000\n",
        "max_len = 100\n",
        "vectorize_layer = TextVectorization(\n",
        "    max_tokens=max_tokens,\n",
        "    output_mode=\"int\",\n",
        "    output_sequence_length=max_len,\n",
        ")"
      ]
    },
    {
      "cell_type": "code",
      "execution_count": null,
      "metadata": {
        "id": "EE5ifKim0Srf"
      },
      "outputs": [],
      "source": [
        "#Extract text from train data object to train the vectorizer\n",
        "train_texts = train_data.map(lambda text,label: text)\n",
        "vectorize_layer.adapt(train_texts)\n",
        "model1.add(vectorize_layer)\n",
        "model2.add(vectorize_layer)\n",
        "model3.add(vectorize_layer)\n",
        "model4.add(vectorize_layer)\n",
        "model5.add(vectorize_layer)"
      ]
    },
    {
      "cell_type": "code",
      "execution_count": null,
      "metadata": {
        "id": "-cRBZT5D0SuR"
      },
      "outputs": [],
      "source": [
        "model1.add(Embedding(max_tokens + 1,128))\n",
        "#Adding RNN\n",
        "rnn = RNN(SimpleRNNCell(64), return_sequences=False,return_state=False)\n",
        "model1.add(rnn)\n",
        "model1.add(Dense(64, activation='relu'))\n",
        "model1.add(Dense(1, activation='sigmoid'))"
      ]
    },
    {
      "cell_type": "code",
      "execution_count": null,
      "metadata": {
        "id": "m5HXGxws1STC"
      },
      "outputs": [],
      "source": [
        "model2.add(Embedding(max_tokens + 1,128))\n",
        "#Adding LSTM\n",
        "model2.add(LSTM(64))\n",
        "model2.add(Dense(64, activation='relu'))\n",
        "model2.add(Dense(1, activation='sigmoid'))"
      ]
    },
    {
      "cell_type": "code",
      "execution_count": null,
      "metadata": {
        "id": "LivOTy0A1SLi"
      },
      "outputs": [],
      "source": [
        "model3.add(Embedding(max_tokens + 1,128))\n",
        "#Adding GRU\n",
        "model3.add(GRU(64))\n",
        "model3.add(Dense(64, activation='relu'))\n",
        "model3.add(Dense(1, activation='sigmoid'))"
      ]
    },
    {
      "cell_type": "code",
      "execution_count": null,
      "metadata": {
        "id": "9HFzhAtW1SFr"
      },
      "outputs": [],
      "source": [
        "model4.add(Embedding(max_tokens + 1,128))\n",
        "#Adding Bidirectional LSTM\n",
        "model4.add(Bidirectional(LSTM(64)))\n",
        "model4.add(Dense(64, activation='relu'))\n",
        "model4.add(Dense(1, activation='sigmoid'))"
      ]
    },
    {
      "cell_type": "code",
      "execution_count": null,
      "metadata": {
        "id": "ZgFBRvUe1R-d"
      },
      "outputs": [],
      "source": [
        "model5.add(Embedding(max_tokens + 1,128))\n",
        "#Adding Bidirectional GRU\n",
        "model5.add(Bidirectional(GRU(64)))\n",
        "model5.add(Dense(64, activation='relu'))\n",
        "model5.add(Dense(1, activation='sigmoid'))"
      ]
    },
    {
      "cell_type": "code",
      "execution_count": null,
      "metadata": {
        "id": "_VtHiEDx0Sw-"
      },
      "outputs": [],
      "source": [
        "#Compilation\n",
        "model1.compile(loss='binary_crossentropy', optimizer=\"adam\", metrics=[\"accuracy\"])\n",
        "model2.compile(loss='binary_crossentropy', optimizer=\"adam\", metrics=[\"accuracy\"])\n",
        "model3.compile(loss='binary_crossentropy', optimizer=\"adam\", metrics=[\"accuracy\"])\n",
        "model4.compile(loss='binary_crossentropy', optimizer=\"adam\", metrics=[\"accuracy\"])\n",
        "model5.compile(loss='binary_crossentropy', optimizer=\"adam\", metrics=[\"accuracy\"])"
      ]
    },
    {
      "cell_type": "code",
      "execution_count": null,
      "metadata": {
        "colab": {
          "base_uri": "https://localhost:8080/"
        },
        "id": "2olxjlI00S_r",
        "outputId": "8e9ac983-388b-48e0-be19-3fb594fde34e"
      },
      "outputs": [
        {
          "name": "stdout",
          "output_type": "stream",
          "text": [
            "Epoch 1/20\n",
            "782/782 [==============================] - 33s 40ms/step - loss: 0.6981 - accuracy: 0.5122\n",
            "Epoch 2/20\n",
            "782/782 [==============================] - 32s 41ms/step - loss: 0.6865 - accuracy: 0.5462\n",
            "Epoch 3/20\n",
            "782/782 [==============================] - 34s 43ms/step - loss: 0.6803 - accuracy: 0.5644\n",
            "Epoch 4/20\n",
            "782/782 [==============================] - 32s 40ms/step - loss: 0.6742 - accuracy: 0.5732\n",
            "Epoch 5/20\n",
            "782/782 [==============================] - 32s 41ms/step - loss: 0.6815 - accuracy: 0.5572\n",
            "Epoch 6/20\n",
            "782/782 [==============================] - 31s 40ms/step - loss: 0.6730 - accuracy: 0.5742\n",
            "Epoch 7/20\n",
            "782/782 [==============================] - 31s 40ms/step - loss: 0.6665 - accuracy: 0.5943\n",
            "Epoch 8/20\n",
            "782/782 [==============================] - 32s 41ms/step - loss: 0.6691 - accuracy: 0.5840\n",
            "Epoch 9/20\n",
            "782/782 [==============================] - 33s 43ms/step - loss: 0.6647 - accuracy: 0.5876\n",
            "Epoch 10/20\n",
            "782/782 [==============================] - 35s 45ms/step - loss: 0.6565 - accuracy: 0.6014\n",
            "Epoch 11/20\n",
            "782/782 [==============================] - 33s 42ms/step - loss: 0.6476 - accuracy: 0.6164\n",
            "Epoch 12/20\n",
            "782/782 [==============================] - 38s 48ms/step - loss: 0.6357 - accuracy: 0.6334\n",
            "Epoch 13/20\n",
            "782/782 [==============================] - 33s 42ms/step - loss: 0.6170 - accuracy: 0.6568\n",
            "Epoch 14/20\n",
            "782/782 [==============================] - 32s 41ms/step - loss: 0.6485 - accuracy: 0.6058\n",
            "Epoch 15/20\n",
            "782/782 [==============================] - 32s 41ms/step - loss: 0.6323 - accuracy: 0.6336\n",
            "Epoch 16/20\n",
            "782/782 [==============================] - 32s 41ms/step - loss: 0.6361 - accuracy: 0.6234\n",
            "Epoch 17/20\n",
            "782/782 [==============================] - 32s 40ms/step - loss: 0.6359 - accuracy: 0.6239\n",
            "Epoch 18/20\n",
            "782/782 [==============================] - 32s 41ms/step - loss: 0.6263 - accuracy: 0.6391\n",
            "Epoch 19/20\n",
            "782/782 [==============================] - 31s 39ms/step - loss: 0.6391 - accuracy: 0.6226\n",
            "Epoch 20/20\n",
            "782/782 [==============================] - 31s 40ms/step - loss: 0.5959 - accuracy: 0.6770\n"
          ]
        }
      ],
      "source": [
        "h1=model1.fit(train_data, epochs=20)"
      ]
    },
    {
      "cell_type": "code",
      "execution_count": null,
      "metadata": {
        "colab": {
          "base_uri": "https://localhost:8080/"
        },
        "id": "SHL1UwhU0TC7",
        "outputId": "c1d5bcdc-0ad5-4c43-baa3-fe13bfd56165"
      },
      "outputs": [
        {
          "name": "stdout",
          "output_type": "stream",
          "text": [
            "Epoch 1/20\n",
            "782/782 [==============================] - 73s 89ms/step - loss: 0.5320 - accuracy: 0.7238\n",
            "Epoch 2/20\n",
            "782/782 [==============================] - 69s 88ms/step - loss: 0.4357 - accuracy: 0.8007\n",
            "Epoch 3/20\n",
            "782/782 [==============================] - 68s 87ms/step - loss: 0.4093 - accuracy: 0.8158\n",
            "Epoch 4/20\n",
            "782/782 [==============================] - 71s 91ms/step - loss: 0.3924 - accuracy: 0.8263\n",
            "Epoch 5/20\n",
            "782/782 [==============================] - 69s 88ms/step - loss: 0.3691 - accuracy: 0.8384\n",
            "Epoch 6/20\n",
            "782/782 [==============================] - 68s 86ms/step - loss: 0.3516 - accuracy: 0.8506\n",
            "Epoch 7/20\n",
            "782/782 [==============================] - 69s 88ms/step - loss: 0.3328 - accuracy: 0.8581\n",
            "Epoch 8/20\n",
            "782/782 [==============================] - 66s 85ms/step - loss: 0.3216 - accuracy: 0.8664\n",
            "Epoch 9/20\n",
            "782/782 [==============================] - 68s 87ms/step - loss: 0.3042 - accuracy: 0.8735\n",
            "Epoch 10/20\n",
            "782/782 [==============================] - 66s 85ms/step - loss: 0.2935 - accuracy: 0.8765\n",
            "Epoch 11/20\n",
            "782/782 [==============================] - 67s 85ms/step - loss: 0.2801 - accuracy: 0.8855\n",
            "Epoch 12/20\n",
            "782/782 [==============================] - 68s 87ms/step - loss: 0.2731 - accuracy: 0.8863\n",
            "Epoch 13/20\n",
            "782/782 [==============================] - 66s 85ms/step - loss: 0.2688 - accuracy: 0.8891\n",
            "Epoch 14/20\n",
            "782/782 [==============================] - 68s 87ms/step - loss: 0.2415 - accuracy: 0.9016\n",
            "Epoch 15/20\n",
            "782/782 [==============================] - 69s 89ms/step - loss: 0.2427 - accuracy: 0.9025\n",
            "Epoch 16/20\n",
            "782/782 [==============================] - 69s 88ms/step - loss: 0.2224 - accuracy: 0.9115\n",
            "Epoch 17/20\n",
            "782/782 [==============================] - 69s 89ms/step - loss: 0.2129 - accuracy: 0.9150\n",
            "Epoch 18/20\n",
            "782/782 [==============================] - 67s 85ms/step - loss: 0.2006 - accuracy: 0.9204\n",
            "Epoch 19/20\n",
            "782/782 [==============================] - 68s 87ms/step - loss: 0.2121 - accuracy: 0.9142\n",
            "Epoch 20/20\n",
            "782/782 [==============================] - 67s 85ms/step - loss: 0.1833 - accuracy: 0.9272\n"
          ]
        }
      ],
      "source": [
        "h2=model2.fit(train_data, epochs=20)"
      ]
    },
    {
      "cell_type": "code",
      "execution_count": null,
      "metadata": {
        "colab": {
          "background_save": true,
          "base_uri": "https://localhost:8080/"
        },
        "id": "QP5Ose100TGQ",
        "outputId": "8093bf63-348e-4ccb-8f46-aea420fd9a6c"
      },
      "outputs": [
        {
          "name": "stdout",
          "output_type": "stream",
          "text": [
            "Epoch 1/20\n",
            "782/782 [==============================] - 68s 82ms/step - loss: 0.5868 - accuracy: 0.6734\n",
            "Epoch 2/20\n",
            "782/782 [==============================] - 63s 81ms/step - loss: 0.4286 - accuracy: 0.8027\n",
            "Epoch 3/20\n",
            "782/782 [==============================] - 63s 80ms/step - loss: 0.3909 - accuracy: 0.8207\n",
            "Epoch 4/20\n",
            "782/782 [==============================] - 64s 81ms/step - loss: 0.3687 - accuracy: 0.8298\n",
            "Epoch 5/20\n",
            "782/782 [==============================] - 64s 82ms/step - loss: 0.3503 - accuracy: 0.8406\n",
            "Epoch 6/20\n",
            "782/782 [==============================] - 63s 81ms/step - loss: 0.3323 - accuracy: 0.8478\n",
            "Epoch 7/20\n",
            "782/782 [==============================] - 64s 82ms/step - loss: 0.3154 - accuracy: 0.8572\n",
            "Epoch 8/20\n",
            "782/782 [==============================] - 64s 82ms/step - loss: 0.2934 - accuracy: 0.8676\n",
            "Epoch 9/20\n",
            "782/782 [==============================] - 65s 83ms/step - loss: 0.2735 - accuracy: 0.8768\n",
            "Epoch 10/20\n",
            "782/782 [==============================] - 64s 81ms/step - loss: 0.2545 - accuracy: 0.8844\n",
            "Epoch 11/20\n",
            "782/782 [==============================] - 63s 81ms/step - loss: 0.2344 - accuracy: 0.8946\n",
            "Epoch 12/20\n",
            "782/782 [==============================] - 65s 83ms/step - loss: 0.2126 - accuracy: 0.9033\n",
            "Epoch 13/20\n",
            "782/782 [==============================] - 66s 85ms/step - loss: 0.1941 - accuracy: 0.9141\n",
            "Epoch 14/20\n",
            "782/782 [==============================] - 64s 82ms/step - loss: 0.1788 - accuracy: 0.9209\n",
            "Epoch 15/20\n",
            "782/782 [==============================] - 64s 82ms/step - loss: 0.1589 - accuracy: 0.9290\n",
            "Epoch 16/20\n",
            "782/782 [==============================] - 66s 84ms/step - loss: 0.1412 - accuracy: 0.9388\n",
            "Epoch 17/20\n",
            "782/782 [==============================] - 61s 78ms/step - loss: 0.1287 - accuracy: 0.9462\n",
            "Epoch 18/20\n",
            "782/782 [==============================] - 61s 78ms/step - loss: 0.1271 - accuracy: 0.9473\n",
            "Epoch 19/20\n",
            "782/782 [==============================] - 59s 75ms/step - loss: 0.1035 - accuracy: 0.9580\n",
            "Epoch 20/20\n",
            "782/782 [==============================] - 60s 77ms/step - loss: 0.0902 - accuracy: 0.9653\n"
          ]
        }
      ],
      "source": [
        "h3=model3.fit(train_data, epochs=20)"
      ]
    },
    {
      "cell_type": "code",
      "execution_count": null,
      "metadata": {
        "colab": {
          "background_save": true
        },
        "id": "MfS-Oepd0TJu",
        "outputId": "7822bc30-2323-4624-c2ba-495a56fd5d6e"
      },
      "outputs": [
        {
          "name": "stdout",
          "output_type": "stream",
          "text": [
            "Epoch 1/20\n",
            "782/782 [==============================] - 114s 140ms/step - loss: 0.5123 - accuracy: 0.7352\n",
            "Epoch 2/20\n",
            "782/782 [==============================] - 110s 140ms/step - loss: 0.4226 - accuracy: 0.8051\n",
            "Epoch 3/20\n",
            "782/782 [==============================] - 111s 142ms/step - loss: 0.3936 - accuracy: 0.8217\n",
            "Epoch 4/20\n",
            "782/782 [==============================] - 109s 139ms/step - loss: 0.3649 - accuracy: 0.8380\n",
            "Epoch 5/20\n",
            "782/782 [==============================] - 110s 140ms/step - loss: 0.3407 - accuracy: 0.8503\n",
            "Epoch 6/20\n",
            "782/782 [==============================] - 111s 141ms/step - loss: 0.3085 - accuracy: 0.8652\n",
            "Epoch 7/20\n",
            "782/782 [==============================] - 111s 142ms/step - loss: 0.2784 - accuracy: 0.8810\n",
            "Epoch 8/20\n",
            "782/782 [==============================] - 110s 141ms/step - loss: 0.2510 - accuracy: 0.8957\n",
            "Epoch 9/20\n",
            "782/782 [==============================] - 109s 140ms/step - loss: 0.2307 - accuracy: 0.9039\n",
            "Epoch 10/20\n",
            "782/782 [==============================] - 111s 141ms/step - loss: 0.2040 - accuracy: 0.9164\n",
            "Epoch 11/20\n",
            "782/782 [==============================] - 109s 139ms/step - loss: 0.1863 - accuracy: 0.9259\n",
            "Epoch 12/20\n",
            "782/782 [==============================] - 111s 142ms/step - loss: 0.1566 - accuracy: 0.9394\n",
            "Epoch 13/20\n",
            "782/782 [==============================] - 111s 141ms/step - loss: 0.1477 - accuracy: 0.9421\n",
            "Epoch 14/20\n",
            "782/782 [==============================] - 110s 141ms/step - loss: 0.1327 - accuracy: 0.9484\n",
            "Epoch 15/20\n",
            "782/782 [==============================] - 111s 142ms/step - loss: 0.1171 - accuracy: 0.9551\n",
            "Epoch 16/20\n",
            "782/782 [==============================] - 110s 141ms/step - loss: 0.0976 - accuracy: 0.9620\n",
            "Epoch 17/20\n",
            "782/782 [==============================] - 110s 141ms/step - loss: 0.0965 - accuracy: 0.9648\n",
            "Epoch 18/20\n",
            "782/782 [==============================] - 112s 143ms/step - loss: 0.0739 - accuracy: 0.9731\n",
            "Epoch 19/20\n",
            "782/782 [==============================] - 110s 140ms/step - loss: 0.0653 - accuracy: 0.9767\n",
            "Epoch 20/20\n",
            "782/782 [==============================] - 110s 141ms/step - loss: 0.0625 - accuracy: 0.9777\n"
          ]
        }
      ],
      "source": [
        "h4=model4.fit(train_data, epochs=20)"
      ]
    },
    {
      "cell_type": "code",
      "execution_count": null,
      "metadata": {
        "id": "nDKqWEgo0TNJ"
      },
      "outputs": [],
      "source": [
        "h5=model5.fit(train_data, epochs=20)"
      ]
    },
    {
      "cell_type": "code",
      "execution_count": null,
      "metadata": {
        "id": "4T8hheJb1mXN"
      },
      "outputs": [],
      "source": [
        "model1.evaluate(test_data)\n",
        "model2.evaluate(test_data)\n",
        "model3.evaluate(test_data)\n",
        "model4.evaluate(test_data)\n",
        "model5.evaluate(test_data)"
      ]
    },
    {
      "cell_type": "code",
      "execution_count": null,
      "metadata": {
        "id": "LUt4LarO1v1s"
      },
      "outputs": [],
      "source": [
        "text = \"\"\"\n",
        "Just left the theatre after watching the film, and the effect  the film had on me is still there...\n",
        "I am still in that zone and I don't want to withdraw the emotions I felt in the theatre...\n",
        "true to the film's name it justifies the way love was portrayed in the film in a pure and innocent\n",
        " way and also the depth in all the relationships in the film..there are so many feelings and emotions\n",
        " in one film and no one else could have done it except Mamooka ....all the cast members were perfect for the roles...\n",
        " hats off to the story , direction, music, and everything and everybody involved behind the screen...\"\"\"\n",
        "model1.predict([text])\n"
      ]
    },
    {
      "cell_type": "code",
      "execution_count": null,
      "metadata": {
        "id": "yDzAhP2A35O6"
      },
      "outputs": [],
      "source": [
        "model2.predict([text])\n"
      ]
    },
    {
      "cell_type": "code",
      "execution_count": null,
      "metadata": {
        "id": "TTSVUx2oAtsj"
      },
      "outputs": [],
      "source": [
        "model3.predict([text])\n"
      ]
    },
    {
      "cell_type": "code",
      "execution_count": null,
      "metadata": {
        "id": "b0gzdhqkAvat"
      },
      "outputs": [],
      "source": [
        "model4.predict([text])\n"
      ]
    },
    {
      "cell_type": "code",
      "execution_count": null,
      "metadata": {
        "id": "SfgZYaPxAw2a"
      },
      "outputs": [],
      "source": [
        "model5.predict([text])"
      ]
    },
    {
      "cell_type": "code",
      "execution_count": null,
      "metadata": {
        "id": "ncUF-XlzAxq9"
      },
      "outputs": [],
      "source": [
        "import matplotlib.pyplot as plt\n",
        "\n",
        "plt.plot(h1.history['accuracy'], label='RNN',color='blue')\n",
        "plt.plot(h2.history['accuracy'], label='LSTM',color='green')\n",
        "plt.plot(h3.history['accuracy'], label='GRU',color='red')\n",
        "plt.plot(h4.history['accuracy'], label='Bidirectional LSTM',color='magenta')\n",
        "plt.plot(h5.history['accuracy'], label='Bidirectional GRU',color='black')\n",
        "plt.xlabel('Epoch')\n",
        "plt.ylabel('Accuracy')\n",
        "plt.legend()\n",
        "plt.show()"
      ]
    },
    {
      "cell_type": "code",
      "execution_count": null,
      "metadata": {
        "id": "3e2bgsZnBAz3"
      },
      "outputs": [],
      "source": [
        "accuracy1 = h1.history['accuracy'][-1]\n",
        "print(f\"Accuracy of RNN: {accuracy1 * 100:.2f}%\")"
      ]
    },
    {
      "cell_type": "code",
      "execution_count": null,
      "metadata": {
        "id": "F1Tl1kbUBL3z"
      },
      "outputs": [],
      "source": [
        "accuracy2 = h2.history['accuracy'][-1]\n",
        "print(f\"Accuracy of LSTM: {accuracy2 * 100:.2f}%\")"
      ]
    },
    {
      "cell_type": "code",
      "execution_count": null,
      "metadata": {
        "id": "5fhu3tJ3CICn"
      },
      "outputs": [],
      "source": [
        "accuracy3 = h3.history['accuracy'][-1]\n",
        "print(f\"Accuracy of GRU: {accuracy3 * 100:.2f}%\")"
      ]
    },
    {
      "cell_type": "code",
      "execution_count": null,
      "metadata": {
        "id": "NUrMLXnFCKCX"
      },
      "outputs": [],
      "source": [
        "accuracy4 = h4.history['accuracy'][-1]\n",
        "print(f\"Accuracy of BiLSTM: {accuracy4 * 100:.2f}%\")"
      ]
    },
    {
      "cell_type": "code",
      "execution_count": null,
      "metadata": {
        "id": "DP5xA1HcCKaX"
      },
      "outputs": [],
      "source": [
        "accuracy5 = h5.history['accuracy'][-1]\n",
        "print(f\"Accuracy of RNN: {accuracy5 * 100:.2f}%\")"
      ]
    },
    {
      "cell_type": "code",
      "execution_count": null,
      "metadata": {
        "id": "wBCPYCS5rE1C"
      },
      "outputs": [],
      "source": []
    }
  ],
  "metadata": {
    "colab": {
      "provenance": []
    },
    "kernelspec": {
      "display_name": "Python 3",
      "name": "python3"
    },
    "language_info": {
      "name": "python"
    }
  },
  "nbformat": 4,
  "nbformat_minor": 0
}